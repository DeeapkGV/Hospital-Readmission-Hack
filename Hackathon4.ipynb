{
 "cells": [
  {
   "cell_type": "code",
   "execution_count": 15,
   "id": "67c96bf4",
   "metadata": {},
   "outputs": [],
   "source": [
    "import pandas as pd\n",
    "import numpy as np\n",
    "import matplotlib.pyplot as plt"
   ]
  },
  {
   "cell_type": "code",
   "execution_count": 16,
   "id": "3a70c336",
   "metadata": {},
   "outputs": [],
   "source": [
    "df = pd.read_csv(\"Train-1617360447408-1660719685476.csv\")"
   ]
  },
  {
   "cell_type": "code",
   "execution_count": 17,
   "id": "3cc179bd",
   "metadata": {},
   "outputs": [
    {
     "name": "stdout",
     "output_type": "stream",
     "text": [
      "<class 'pandas.core.frame.DataFrame'>\n",
      "RangeIndex: 66587 entries, 0 to 66586\n",
      "Data columns (total 49 columns):\n",
      " #   Column              Non-Null Count  Dtype  \n",
      "---  ------              --------------  -----  \n",
      " 0   index               66587 non-null  int64  \n",
      " 1   encounter_id        66587 non-null  int64  \n",
      " 2   patient_id          66587 non-null  int64  \n",
      " 3   race                66587 non-null  object \n",
      " 4   gender              66587 non-null  object \n",
      " 5   age                 66587 non-null  object \n",
      " 6   weight              66587 non-null  object \n",
      " 7   time_in_hospital    66587 non-null  int64  \n",
      " 8   medical_specialty   66587 non-null  object \n",
      " 9   num_lab_procedures  66587 non-null  int64  \n",
      " 10  num_procedures      66587 non-null  int64  \n",
      " 11  num_medications     66587 non-null  int64  \n",
      " 12  number_outpatient   66587 non-null  int64  \n",
      " 13  number_emergency    66587 non-null  int64  \n",
      " 14  number_inpatient    66587 non-null  int64  \n",
      " 15  diag_1              66587 non-null  object \n",
      " 16  diag_2              66587 non-null  object \n",
      " 17  diag_3              66587 non-null  object \n",
      " 18  diag_4              66587 non-null  object \n",
      " 19  diag_5              66587 non-null  float64\n",
      " 20  number_diagnoses    66587 non-null  int64  \n",
      " 21  X1                  66587 non-null  object \n",
      " 22  X2                  66587 non-null  object \n",
      " 23  X3                  66587 non-null  object \n",
      " 24  X4                  66587 non-null  object \n",
      " 25  X5                  66587 non-null  object \n",
      " 26  X6                  66587 non-null  object \n",
      " 27  X7                  66587 non-null  object \n",
      " 28  X8                  66587 non-null  object \n",
      " 29  X9                  66587 non-null  object \n",
      " 30  X10                 66587 non-null  object \n",
      " 31  X11                 66587 non-null  object \n",
      " 32  X12                 66587 non-null  object \n",
      " 33  X13                 66587 non-null  object \n",
      " 34  X14                 66587 non-null  object \n",
      " 35  X15                 66587 non-null  object \n",
      " 36  X16                 66587 non-null  object \n",
      " 37  X17                 66587 non-null  object \n",
      " 38  X18                 66587 non-null  object \n",
      " 39  X19                 66587 non-null  object \n",
      " 40  X20                 66587 non-null  object \n",
      " 41  X21                 66587 non-null  object \n",
      " 42  X22                 66587 non-null  object \n",
      " 43  X23                 66587 non-null  object \n",
      " 44  X24                 66587 non-null  object \n",
      " 45  X25                 66587 non-null  object \n",
      " 46  change              66587 non-null  object \n",
      " 47  diabetesMed         66587 non-null  object \n",
      " 48  readmitted          66587 non-null  int64  \n",
      "dtypes: float64(1), int64(12), object(36)\n",
      "memory usage: 24.9+ MB\n"
     ]
    }
   ],
   "source": [
    "df.info()"
   ]
  },
  {
   "cell_type": "code",
   "execution_count": 18,
   "id": "c25ff076",
   "metadata": {},
   "outputs": [
    {
     "data": {
      "text/html": [
       "<div>\n",
       "<style scoped>\n",
       "    .dataframe tbody tr th:only-of-type {\n",
       "        vertical-align: middle;\n",
       "    }\n",
       "\n",
       "    .dataframe tbody tr th {\n",
       "        vertical-align: top;\n",
       "    }\n",
       "\n",
       "    .dataframe thead th {\n",
       "        text-align: right;\n",
       "    }\n",
       "</style>\n",
       "<table border=\"1\" class=\"dataframe\">\n",
       "  <thead>\n",
       "    <tr style=\"text-align: right;\">\n",
       "      <th></th>\n",
       "      <th>index</th>\n",
       "      <th>encounter_id</th>\n",
       "      <th>patient_id</th>\n",
       "      <th>race</th>\n",
       "      <th>gender</th>\n",
       "      <th>age</th>\n",
       "      <th>weight</th>\n",
       "      <th>time_in_hospital</th>\n",
       "      <th>medical_specialty</th>\n",
       "      <th>num_lab_procedures</th>\n",
       "      <th>...</th>\n",
       "      <th>X19</th>\n",
       "      <th>X20</th>\n",
       "      <th>X21</th>\n",
       "      <th>X22</th>\n",
       "      <th>X23</th>\n",
       "      <th>X24</th>\n",
       "      <th>X25</th>\n",
       "      <th>change</th>\n",
       "      <th>diabetesMed</th>\n",
       "      <th>readmitted</th>\n",
       "    </tr>\n",
       "  </thead>\n",
       "  <tbody>\n",
       "    <tr>\n",
       "      <th>0</th>\n",
       "      <td>69375</td>\n",
       "      <td>197029140</td>\n",
       "      <td>51521940</td>\n",
       "      <td>Hispanic</td>\n",
       "      <td>Male</td>\n",
       "      <td>[80-90)</td>\n",
       "      <td>?</td>\n",
       "      <td>4</td>\n",
       "      <td>Emergency/Trauma</td>\n",
       "      <td>39</td>\n",
       "      <td>...</td>\n",
       "      <td>No</td>\n",
       "      <td>No</td>\n",
       "      <td>No</td>\n",
       "      <td>No</td>\n",
       "      <td>No</td>\n",
       "      <td>No</td>\n",
       "      <td>No</td>\n",
       "      <td>No</td>\n",
       "      <td>Yes</td>\n",
       "      <td>1</td>\n",
       "    </tr>\n",
       "    <tr>\n",
       "      <th>1</th>\n",
       "      <td>57272</td>\n",
       "      <td>163571946</td>\n",
       "      <td>92631357</td>\n",
       "      <td>Caucasian</td>\n",
       "      <td>Male</td>\n",
       "      <td>[60-70)</td>\n",
       "      <td>?</td>\n",
       "      <td>3</td>\n",
       "      <td>Emergency/Trauma</td>\n",
       "      <td>34</td>\n",
       "      <td>...</td>\n",
       "      <td>No</td>\n",
       "      <td>No</td>\n",
       "      <td>No</td>\n",
       "      <td>No</td>\n",
       "      <td>No</td>\n",
       "      <td>No</td>\n",
       "      <td>No</td>\n",
       "      <td>No</td>\n",
       "      <td>No</td>\n",
       "      <td>0</td>\n",
       "    </tr>\n",
       "    <tr>\n",
       "      <th>2</th>\n",
       "      <td>82347</td>\n",
       "      <td>256497366</td>\n",
       "      <td>30023982</td>\n",
       "      <td>Caucasian</td>\n",
       "      <td>Female</td>\n",
       "      <td>[50-60)</td>\n",
       "      <td>?</td>\n",
       "      <td>6</td>\n",
       "      <td>Nephrology</td>\n",
       "      <td>50</td>\n",
       "      <td>...</td>\n",
       "      <td>No</td>\n",
       "      <td>Down</td>\n",
       "      <td>No</td>\n",
       "      <td>No</td>\n",
       "      <td>No</td>\n",
       "      <td>No</td>\n",
       "      <td>No</td>\n",
       "      <td>Ch</td>\n",
       "      <td>Yes</td>\n",
       "      <td>1</td>\n",
       "    </tr>\n",
       "    <tr>\n",
       "      <th>3</th>\n",
       "      <td>89608</td>\n",
       "      <td>289891212</td>\n",
       "      <td>93606021</td>\n",
       "      <td>AfricanAmerican</td>\n",
       "      <td>Female</td>\n",
       "      <td>[70-80)</td>\n",
       "      <td>?</td>\n",
       "      <td>5</td>\n",
       "      <td>?</td>\n",
       "      <td>63</td>\n",
       "      <td>...</td>\n",
       "      <td>No</td>\n",
       "      <td>Down</td>\n",
       "      <td>No</td>\n",
       "      <td>No</td>\n",
       "      <td>No</td>\n",
       "      <td>No</td>\n",
       "      <td>No</td>\n",
       "      <td>Ch</td>\n",
       "      <td>Yes</td>\n",
       "      <td>1</td>\n",
       "    </tr>\n",
       "    <tr>\n",
       "      <th>4</th>\n",
       "      <td>24091</td>\n",
       "      <td>81873900</td>\n",
       "      <td>23464296</td>\n",
       "      <td>Caucasian</td>\n",
       "      <td>Male</td>\n",
       "      <td>[70-80)</td>\n",
       "      <td>?</td>\n",
       "      <td>9</td>\n",
       "      <td>Psychiatry</td>\n",
       "      <td>17</td>\n",
       "      <td>...</td>\n",
       "      <td>No</td>\n",
       "      <td>No</td>\n",
       "      <td>No</td>\n",
       "      <td>No</td>\n",
       "      <td>No</td>\n",
       "      <td>No</td>\n",
       "      <td>No</td>\n",
       "      <td>No</td>\n",
       "      <td>No</td>\n",
       "      <td>1</td>\n",
       "    </tr>\n",
       "  </tbody>\n",
       "</table>\n",
       "<p>5 rows × 49 columns</p>\n",
       "</div>"
      ],
      "text/plain": [
       "   index  encounter_id  patient_id             race  gender      age weight  \\\n",
       "0  69375     197029140    51521940         Hispanic    Male  [80-90)      ?   \n",
       "1  57272     163571946    92631357        Caucasian    Male  [60-70)      ?   \n",
       "2  82347     256497366    30023982        Caucasian  Female  [50-60)      ?   \n",
       "3  89608     289891212    93606021  AfricanAmerican  Female  [70-80)      ?   \n",
       "4  24091      81873900    23464296        Caucasian    Male  [70-80)      ?   \n",
       "\n",
       "   time_in_hospital medical_specialty  num_lab_procedures  ...  X19   X20  \\\n",
       "0                 4  Emergency/Trauma                  39  ...   No    No   \n",
       "1                 3  Emergency/Trauma                  34  ...   No    No   \n",
       "2                 6        Nephrology                  50  ...   No  Down   \n",
       "3                 5                 ?                  63  ...   No  Down   \n",
       "4                 9        Psychiatry                  17  ...   No    No   \n",
       "\n",
       "   X21  X22  X23 X24 X25 change diabetesMed  readmitted  \n",
       "0   No   No   No  No  No     No         Yes           1  \n",
       "1   No   No   No  No  No     No          No           0  \n",
       "2   No   No   No  No  No     Ch         Yes           1  \n",
       "3   No   No   No  No  No     Ch         Yes           1  \n",
       "4   No   No   No  No  No     No          No           1  \n",
       "\n",
       "[5 rows x 49 columns]"
      ]
     },
     "execution_count": 18,
     "metadata": {},
     "output_type": "execute_result"
    }
   ],
   "source": [
    "df.head()"
   ]
  },
  {
   "cell_type": "code",
   "execution_count": 19,
   "id": "769d263c",
   "metadata": {},
   "outputs": [
    {
     "name": "stdout",
     "output_type": "stream",
     "text": [
      "index: 48911 unique values\n",
      "encounter_id: 48911 unique values\n",
      "patient_id: 39650 unique values\n",
      "race\n",
      "['Hispanic' 'Caucasian' 'AfricanAmerican' '?' 'Other' 'Asian']\n",
      "gender\n",
      "['Male' 'Female' 'Unknown/Invalid']\n",
      "age\n",
      "['[80-90)' '[60-70)' '[50-60)' '[70-80)' '[40-50)' '[20-30)' '[30-40)'\n",
      " '[90-100)' '[0-10)' '[10-20)']\n",
      "weight\n",
      "['?' '[0-25)' '[75-100)' '[50-75)' '[25-50)' '[125-150)' '[150-175)'\n",
      " '[100-125)' '>200' '[175-200)']\n",
      "time_in_hospital\n",
      "[ 4  3  6  5  9 13  2  7  1 11 12 10 14  8]\n",
      "medical_specialty: 65 unique values\n",
      "num_lab_procedures: 113 unique values\n",
      "num_procedures\n",
      "[1 2 0 3 4 5 6]\n",
      "num_medications: 71 unique values\n",
      "number_outpatient: 33 unique values\n",
      "number_emergency\n",
      "[ 1  0  3  2  6  8  5  4 12  7 20 19  9 16 10 18 63 13 11 22 15 28 25 21\n",
      " 24 46]\n",
      "number_inpatient\n",
      "[ 4  0  5  1  3  2  6  9  7 10  8 11 15 14 12 13 19 16 18]\n",
      "diag_1: 652 unique values\n",
      "diag_2: 656 unique values\n",
      "diag_3: 707 unique values\n",
      "diag_4: 707 unique values\n",
      "diag_5: 48911 unique values\n",
      "number_diagnoses\n",
      "[ 9  6  7  5  4  2  8  3  1 16 10 12 13 14 11 15]\n",
      "X1\n",
      "['None' '>200' 'Norm' '>300']\n",
      "X2\n",
      "['None' 'Norm' '>8' '>7']\n",
      "X3\n",
      "['No' 'Steady' 'Up' 'Down']\n",
      "X4\n",
      "['No' 'Steady' 'Up' 'Down']\n",
      "X5\n",
      "['No' 'Steady' 'Down' 'Up']\n",
      "X6\n",
      "['No' 'Steady' 'Up']\n",
      "X7\n",
      "['No' 'Steady' 'Up' 'Down']\n",
      "X8\n",
      "['No']\n",
      "X9\n",
      "['No' 'Steady' 'Up' 'Down']\n",
      "X10\n",
      "['No' 'Down' 'Steady' 'Up']\n",
      "X11\n",
      "['No' 'Steady']\n",
      "X12\n",
      "['No' 'Steady' 'Down' 'Up']\n",
      "X13\n",
      "['Steady' 'No' 'Up' 'Down']\n",
      "X14\n",
      "['No' 'Steady' 'Up' 'Down']\n",
      "X15\n",
      "['No' 'Down' 'Steady']\n",
      "X16\n",
      "['No' 'Steady']\n",
      "X17\n",
      "['No' 'Steady']\n",
      "X18\n",
      "['No']\n",
      "X19\n",
      "['No']\n",
      "X20\n",
      "['No' 'Down' 'Up' 'Steady']\n",
      "X21\n",
      "['No' 'Steady' 'Down' 'Up']\n",
      "X22\n",
      "['No' 'Steady']\n",
      "X23\n",
      "['No' 'Steady']\n",
      "X24\n",
      "['No' 'Steady']\n",
      "X25\n",
      "['No']\n",
      "change\n",
      "['No' 'Ch']\n",
      "diabetesMed\n",
      "['Yes' 'No']\n",
      "readmitted\n",
      "[1 0]\n"
     ]
    }
   ],
   "source": [
    "for c in list(df.columns):\n",
    "    \n",
    "    # get a list of unique values\n",
    "    n = df[c].unique()\n",
    "    \n",
    "    # if number of unique values is less than 30, print the values. Otherwise print the number of unique values\n",
    "    if len(n)<30:\n",
    "        print(c)\n",
    "        print(n)\n",
    "    else:\n",
    "        print(c + ': ' +str(len(n)) + ' unique values')"
   ]
  },
  {
   "cell_type": "code",
   "execution_count": 20,
   "id": "b45a8efb",
   "metadata": {},
   "outputs": [],
   "source": [
    "df = df.replace('?',np.nan)"
   ]
  },
  {
   "cell_type": "code",
   "execution_count": 21,
   "id": "abbfe44c",
   "metadata": {},
   "outputs": [],
   "source": [
    "cols_num = ['time_in_hospital','num_lab_procedures', 'num_procedures', 'num_medications',\n",
    "       'number_outpatient', 'number_emergency', 'number_inpatient','number_diagnoses']"
   ]
  },
  {
   "cell_type": "code",
   "execution_count": 22,
   "id": "2ae91245",
   "metadata": {},
   "outputs": [
    {
     "data": {
      "text/plain": [
       "time_in_hospital      0\n",
       "num_lab_procedures    0\n",
       "num_procedures        0\n",
       "num_medications       0\n",
       "number_outpatient     0\n",
       "number_emergency      0\n",
       "number_inpatient      0\n",
       "number_diagnoses      0\n",
       "dtype: int64"
      ]
     },
     "execution_count": 22,
     "metadata": {},
     "output_type": "execute_result"
    }
   ],
   "source": [
    "df[cols_num].isnull().sum()"
   ]
  },
  {
   "cell_type": "code",
   "execution_count": 23,
   "id": "7e208daf",
   "metadata": {},
   "outputs": [],
   "source": [
    "cols_cat = ['race', 'gender','medical_specialty','X1','X2','X3','X4','X5','X6','X7','X9','X8','X10','X11',\n",
    "               'X12','X13','X14','X15','X16','X17','X18','X19','X20','X21','X22','X23','X24','X25','change', 'diabetesMed']"
   ]
  },
  {
   "cell_type": "code",
   "execution_count": 24,
   "id": "f2b17eb3",
   "metadata": {},
   "outputs": [
    {
     "data": {
      "text/plain": [
       "race                  1504\n",
       "gender                   0\n",
       "medical_specialty    32672\n",
       "X1                       0\n",
       "X2                       0\n",
       "X3                       0\n",
       "X4                       0\n",
       "X5                       0\n",
       "X6                       0\n",
       "X7                       0\n",
       "X9                       0\n",
       "X8                       0\n",
       "X10                      0\n",
       "X11                      0\n",
       "X12                      0\n",
       "X13                      0\n",
       "X14                      0\n",
       "X15                      0\n",
       "X16                      0\n",
       "X17                      0\n",
       "X18                      0\n",
       "X19                      0\n",
       "X20                      0\n",
       "X21                      0\n",
       "X22                      0\n",
       "X23                      0\n",
       "X24                      0\n",
       "X25                      0\n",
       "change                   0\n",
       "diabetesMed              0\n",
       "dtype: int64"
      ]
     },
     "execution_count": 24,
     "metadata": {},
     "output_type": "execute_result"
    }
   ],
   "source": [
    "df[cols_cat].isnull().sum()"
   ]
  },
  {
   "cell_type": "code",
   "execution_count": 25,
   "id": "c31cad66",
   "metadata": {},
   "outputs": [],
   "source": [
    "df['race'] = df['race'].fillna('UNK')\n",
    "df['medical_specialty'] = df['medical_specialty'].fillna('UNK')"
   ]
  },
  {
   "cell_type": "code",
   "execution_count": 26,
   "id": "e9b9443e",
   "metadata": {},
   "outputs": [
    {
     "name": "stdout",
     "output_type": "stream",
     "text": [
      "Number medical specialty: 65\n"
     ]
    },
    {
     "data": {
      "text/plain": [
       "medical_specialty\n",
       "UNK                               32672\n",
       "InternalMedicine                   9460\n",
       "Emergency/Trauma                   4986\n",
       "Family/GeneralPractice             4924\n",
       "Cardiology                         3434\n",
       "                                  ...  \n",
       "Speech                                2\n",
       "Proctology                            1\n",
       "Pediatrics-Hematology-Oncology        1\n",
       "DCPTEAM                               1\n",
       "Psychiatry-Addictive                  1\n",
       "Length: 65, dtype: int64"
      ]
     },
     "execution_count": 26,
     "metadata": {},
     "output_type": "execute_result"
    }
   ],
   "source": [
    "print('Number medical specialty:', df.medical_specialty.nunique())\n",
    "df.groupby('medical_specialty').size().sort_values(ascending = False)"
   ]
  },
  {
   "cell_type": "code",
   "execution_count": 27,
   "id": "bb50f2b8",
   "metadata": {},
   "outputs": [],
   "source": [
    "top_10 = ['UNK','InternalMedicine','Emergency/Trauma',\\\n",
    "          'Family/GeneralPractice', 'Cardiology','Surgery-General' ,\\\n",
    "          'Nephrology','Orthopedics',\\\n",
    "          'Orthopedics-Reconstructive','Radiologist']\n",
    "\n",
    "\n",
    "df['med_spec'] = df['medical_specialty'].copy()\n",
    "\n",
    "\n",
    "df.loc[~df.med_spec.isin(top_10),'med_spec'] = 'Other'"
   ]
  },
  {
   "cell_type": "code",
   "execution_count": 28,
   "id": "f5abe5a2",
   "metadata": {},
   "outputs": [
    {
     "data": {
      "text/plain": [
       "med_spec\n",
       "Cardiology                     3434\n",
       "Emergency/Trauma               4986\n",
       "Family/GeneralPractice         4924\n",
       "InternalMedicine               9460\n",
       "Nephrology                     1098\n",
       "Orthopedics                     912\n",
       "Orthopedics-Reconstructive      812\n",
       "Other                          5455\n",
       "Radiologist                     767\n",
       "Surgery-General                2067\n",
       "UNK                           32672\n",
       "dtype: int64"
      ]
     },
     "execution_count": 28,
     "metadata": {},
     "output_type": "execute_result"
    }
   ],
   "source": [
    "df.groupby('med_spec').size()"
   ]
  },
  {
   "cell_type": "code",
   "execution_count": 30,
   "id": "e60537da",
   "metadata": {},
   "outputs": [
    {
     "data": {
      "text/html": [
       "<div>\n",
       "<style scoped>\n",
       "    .dataframe tbody tr th:only-of-type {\n",
       "        vertical-align: middle;\n",
       "    }\n",
       "\n",
       "    .dataframe tbody tr th {\n",
       "        vertical-align: top;\n",
       "    }\n",
       "\n",
       "    .dataframe thead th {\n",
       "        text-align: right;\n",
       "    }\n",
       "</style>\n",
       "<table border=\"1\" class=\"dataframe\">\n",
       "  <thead>\n",
       "    <tr style=\"text-align: right;\">\n",
       "      <th></th>\n",
       "      <th>age</th>\n",
       "      <th>weight</th>\n",
       "    </tr>\n",
       "  </thead>\n",
       "  <tbody>\n",
       "    <tr>\n",
       "      <th>0</th>\n",
       "      <td>[80-90)</td>\n",
       "      <td>NaN</td>\n",
       "    </tr>\n",
       "    <tr>\n",
       "      <th>1</th>\n",
       "      <td>[60-70)</td>\n",
       "      <td>NaN</td>\n",
       "    </tr>\n",
       "    <tr>\n",
       "      <th>2</th>\n",
       "      <td>[50-60)</td>\n",
       "      <td>NaN</td>\n",
       "    </tr>\n",
       "    <tr>\n",
       "      <th>3</th>\n",
       "      <td>[70-80)</td>\n",
       "      <td>NaN</td>\n",
       "    </tr>\n",
       "    <tr>\n",
       "      <th>4</th>\n",
       "      <td>[70-80)</td>\n",
       "      <td>NaN</td>\n",
       "    </tr>\n",
       "  </tbody>\n",
       "</table>\n",
       "</div>"
      ],
      "text/plain": [
       "       age weight\n",
       "0  [80-90)    NaN\n",
       "1  [60-70)    NaN\n",
       "2  [50-60)    NaN\n",
       "3  [70-80)    NaN\n",
       "4  [70-80)    NaN"
      ]
     },
     "execution_count": 30,
     "metadata": {},
     "output_type": "execute_result"
    }
   ],
   "source": [
    "df[['age', 'weight']].head()"
   ]
  },
  {
   "cell_type": "code",
   "execution_count": 31,
   "id": "9c392565",
   "metadata": {},
   "outputs": [
    {
     "data": {
      "text/plain": [
       "age\n",
       "[0-10)        100\n",
       "[10-20)       428\n",
       "[20-30)      1154\n",
       "[30-40)      2414\n",
       "[40-50)      6324\n",
       "[50-60)     11378\n",
       "[60-70)     14845\n",
       "[70-80)     17031\n",
       "[80-90)     11080\n",
       "[90-100)     1833\n",
       "dtype: int64"
      ]
     },
     "execution_count": 31,
     "metadata": {},
     "output_type": "execute_result"
    }
   ],
   "source": [
    "df.groupby('age').size()"
   ]
  },
  {
   "cell_type": "code",
   "execution_count": 34,
   "id": "8ed61585",
   "metadata": {},
   "outputs": [],
   "source": [
    "age_id ={'[0-10)':100,\n",
    "         '[10-20)' :428,\n",
    "         '[20-30)' :1154,\n",
    "         '[30-40)' :2414,\n",
    "         '[40-50)' :6324,\n",
    "         '[50-60)' :11378,\n",
    "         '[60-70)' :14845,\n",
    "         '[70-80)' :17031,\n",
    "         '[80-90)' :11080,\n",
    "         '[90-100)':1833}\n",
    "df['age_group'] = df.age.replace(age_id)"
   ]
  },
  {
   "cell_type": "code",
   "execution_count": 35,
   "id": "4fc8df08",
   "metadata": {},
   "outputs": [
    {
     "data": {
      "text/plain": [
       "2133"
      ]
     },
     "execution_count": 35,
     "metadata": {},
     "output_type": "execute_result"
    }
   ],
   "source": [
    "df.weight.notnull().sum()"
   ]
  },
  {
   "cell_type": "code",
   "execution_count": 36,
   "id": "962fa171",
   "metadata": {},
   "outputs": [],
   "source": [
    "df['has_weight'] = df.weight.notnull().astype('int')"
   ]
  },
  {
   "cell_type": "code",
   "execution_count": 37,
   "id": "c3dc450b",
   "metadata": {},
   "outputs": [],
   "source": [
    "cols_extra = ['age_group','has_weight']"
   ]
  },
  {
   "cell_type": "code",
   "execution_count": 40,
   "id": "e759a827",
   "metadata": {},
   "outputs": [
    {
     "name": "stdout",
     "output_type": "stream",
     "text": [
      "Total number of features: 10\n",
      "Numerical Features: 8\n",
      "Extra features: 2\n"
     ]
    }
   ],
   "source": [
    "print('Total number of features:', len(cols_num + cols_extra))\n",
    "print('Numerical Features:',len(cols_num))\n",
    "print('Extra features:',len(cols_extra))"
   ]
  },
  {
   "cell_type": "code",
   "execution_count": 41,
   "id": "ee96a669",
   "metadata": {},
   "outputs": [
    {
     "data": {
      "text/plain": [
       "time_in_hospital      0\n",
       "num_lab_procedures    0\n",
       "num_procedures        0\n",
       "num_medications       0\n",
       "number_outpatient     0\n",
       "number_emergency      0\n",
       "number_inpatient      0\n",
       "number_diagnoses      0\n",
       "age_group             0\n",
       "has_weight            0\n",
       "dtype: int64"
      ]
     },
     "execution_count": 41,
     "metadata": {},
     "output_type": "execute_result"
    }
   ],
   "source": [
    "df[cols_num +  cols_extra].isnull().sum().sort_values(ascending = False).head(10)"
   ]
  },
  {
   "cell_type": "code",
   "execution_count": 43,
   "id": "887bebc9",
   "metadata": {},
   "outputs": [],
   "source": [
    "col2use = cols_num + cols_extra\n",
    "df_data = df[col2use + ['readmitted']]"
   ]
  },
  {
   "cell_type": "code",
   "execution_count": 44,
   "id": "0f514a2d",
   "metadata": {},
   "outputs": [],
   "source": [
    "df_data = df_data.sample(n = len(df_data), random_state = 42)\n",
    "df_data = df_data.reset_index(drop = True)"
   ]
  },
  {
   "cell_type": "code",
   "execution_count": 45,
   "id": "acda152d",
   "metadata": {},
   "outputs": [
    {
     "name": "stdout",
     "output_type": "stream",
     "text": [
      "Split size: 0.300\n"
     ]
    }
   ],
   "source": [
    "df_valid_test=df_data.sample(frac=0.30,random_state=42)\n",
    "print('Split size: %.3f'%(len(df_valid_test)/len(df_data)))"
   ]
  },
  {
   "cell_type": "code",
   "execution_count": 46,
   "id": "0b55dfbe",
   "metadata": {},
   "outputs": [],
   "source": [
    "df_test = df_valid_test.sample(frac = 0.5, random_state = 42)\n",
    "df_valid = df_valid_test.drop(df_test.index)"
   ]
  },
  {
   "cell_type": "code",
   "execution_count": 47,
   "id": "b1ddc642",
   "metadata": {},
   "outputs": [],
   "source": [
    "df_train_all=df_data.drop(df_valid_test.index)"
   ]
  },
  {
   "cell_type": "code",
   "execution_count": 50,
   "id": "d3652db5",
   "metadata": {},
   "outputs": [
    {
     "name": "stdout",
     "output_type": "stream",
     "text": [
      "all samples (n = 66587)\n"
     ]
    }
   ],
   "source": [
    "print('all samples (n = %d)'%len(df_data))\n",
    "assert len(df_data) == (len(df_test)+len(df_valid)+len(df_train_all)),'math didnt work'"
   ]
  },
  {
   "cell_type": "code",
   "execution_count": 53,
   "id": "45ee3e66",
   "metadata": {},
   "outputs": [],
   "source": [
    "rows_pos = df_train_all.readmitted == 1\n",
    "df_train_pos = df_train_all.loc[rows_pos]\n",
    "df_train_neg = df_train_all.loc[~rows_pos]\n",
    "\n",
    "# merge the balanced data\n",
    "df_train = pd.concat([df_train_pos, df_train_neg.sample(n = len(df_train_pos), random_state = 42)],axis = 0)\n",
    "\n",
    "# shuffle the order of training samples \n",
    "df_train = df_train.sample(n = len(df_train), random_state = 42).reset_index(drop = True)"
   ]
  },
  {
   "cell_type": "code",
   "execution_count": 54,
   "id": "3c4f26ce",
   "metadata": {},
   "outputs": [],
   "source": [
    "df_train_all.to_csv('df_train_all.csv',index=False)\n",
    "df_train.to_csv('df_train.csv',index=False)\n",
    "df_valid.to_csv('df_valid.csv',index=False)\n",
    "df_test.to_csv('df_test.csv',index=False)"
   ]
  },
  {
   "cell_type": "code",
   "execution_count": 55,
   "id": "21aad2d1",
   "metadata": {},
   "outputs": [
    {
     "name": "stdout",
     "output_type": "stream",
     "text": [
      "Training All shapes: (46611, 10)\n",
      "Training shapes: (43346, 10) (43346,)\n",
      "Validation shapes: (9988, 10) (9988,)\n"
     ]
    }
   ],
   "source": [
    "X_train = df_train[col2use].values\n",
    "X_train_all = df_train_all[col2use].values\n",
    "X_valid = df_valid[col2use].values\n",
    "\n",
    "y_train = df_train['readmitted'].values\n",
    "y_valid = df_valid['readmitted'].values\n",
    "\n",
    "print('Training All shapes:',X_train_all.shape)\n",
    "print('Training shapes:',X_train.shape, y_train.shape)\n",
    "print('Validation shapes:',X_valid.shape, y_valid.shape)"
   ]
  },
  {
   "cell_type": "code",
   "execution_count": 56,
   "id": "a9bb0e8d",
   "metadata": {},
   "outputs": [
    {
     "data": {
      "text/plain": [
       "StandardScaler()"
      ]
     },
     "execution_count": 56,
     "metadata": {},
     "output_type": "execute_result"
    }
   ],
   "source": [
    "from sklearn.preprocessing import StandardScaler\n",
    "\n",
    "scaler  = StandardScaler()\n",
    "scaler.fit(X_train_all)"
   ]
  },
  {
   "cell_type": "code",
   "execution_count": 57,
   "id": "51ea271f",
   "metadata": {},
   "outputs": [],
   "source": [
    "import pickle\n",
    "scalerfile = 'scaler.sav'\n",
    "pickle.dump(scaler, open(scalerfile, 'wb'))"
   ]
  },
  {
   "cell_type": "code",
   "execution_count": 58,
   "id": "91fb483e",
   "metadata": {},
   "outputs": [],
   "source": [
    "scaler = pickle.load(open(scalerfile, 'rb'))"
   ]
  },
  {
   "cell_type": "code",
   "execution_count": 59,
   "id": "2d9e8e14",
   "metadata": {},
   "outputs": [],
   "source": [
    "X_train_tf = scaler.transform(X_train)\n",
    "X_valid_tf = scaler.transform(X_valid)"
   ]
  },
  {
   "cell_type": "code",
   "execution_count": 64,
   "id": "f6ff8406",
   "metadata": {},
   "outputs": [],
   "source": [
    "from sklearn.metrics import roc_auc_score, accuracy_score, precision_score, recall_score\n",
    "def calc_specificity(y_actual, y_pred, thresh):\n",
    "    # calculates specificity\n",
    "    return sum((y_pred < thresh) & (y_actual == 0)) /sum(y_actual ==0)\n",
    "\n",
    "def print_report(y_actual, y_pred, thresh):\n",
    "    \n",
    "    auc = roc_auc_score(y_actual, y_pred)\n",
    "    accuracy = accuracy_score(y_actual, (y_pred > thresh))\n",
    "    recall = recall_score(y_actual, (y_pred > thresh))\n",
    "    precision = precision_score(y_actual, (y_pred > thresh))\n",
    "    specificity = calc_specificity(y_actual, y_pred, thresh)\n",
    "    print('AUC:%.3f'%auc)\n",
    "    print('accuracy:%.3f'%accuracy)\n",
    "    print('recall:%.3f'%recall)\n",
    "    print('precision:%.3f'%precision)\n",
    "    print('specificity:%.3f'%specificity)\n",
    "    print(' ')\n",
    "    return auc, accuracy, recall, precision, specificity "
   ]
  },
  {
   "cell_type": "code",
   "execution_count": 65,
   "id": "f6565e11",
   "metadata": {},
   "outputs": [],
   "source": [
    "thresh = 0.5"
   ]
  },
  {
   "cell_type": "code",
   "execution_count": 66,
   "id": "f384e0b2",
   "metadata": {},
   "outputs": [
    {
     "data": {
      "text/plain": [
       "KNeighborsClassifier(n_neighbors=100)"
      ]
     },
     "execution_count": 66,
     "metadata": {},
     "output_type": "execute_result"
    }
   ],
   "source": [
    "from sklearn.neighbors import KNeighborsClassifier\n",
    "knn=KNeighborsClassifier(n_neighbors = 100)\n",
    "knn.fit(X_train_tf, y_train)"
   ]
  },
  {
   "cell_type": "code",
   "execution_count": 67,
   "id": "21272f4a",
   "metadata": {},
   "outputs": [
    {
     "name": "stdout",
     "output_type": "stream",
     "text": [
      "KNN\n",
      "Training:\n",
      "AUC:0.673\n",
      "accuracy:0.623\n",
      "recall:0.533\n",
      "precision:0.650\n",
      "specificity:0.685\n",
      " \n",
      "Validation:\n",
      "AUC:0.662\n",
      "accuracy:0.626\n",
      "recall:0.528\n",
      "precision:0.606\n",
      "specificity:0.677\n",
      " \n"
     ]
    }
   ],
   "source": [
    "y_train_preds = knn.predict_proba(X_train_tf)[:,1]\n",
    "y_valid_preds = knn.predict_proba(X_valid_tf)[:,1]\n",
    "\n",
    "print('KNN')\n",
    "print('Training:')\n",
    "knn_train_auc, knn_train_accuracy, knn_train_recall, \\\n",
    "    knn_train_precision, knn_train_specificity = print_report(y_train,y_train_preds, thresh)\n",
    "print('Validation:')\n",
    "knn_valid_auc, knn_valid_accuracy, knn_valid_recall, \\\n",
    "    knn_valid_precision, knn_valid_specificity = print_report(y_valid,y_valid_preds, thresh)"
   ]
  },
  {
   "cell_type": "code",
   "execution_count": 68,
   "id": "2a842980",
   "metadata": {},
   "outputs": [
    {
     "data": {
      "text/plain": [
       "LogisticRegression(random_state=42)"
      ]
     },
     "execution_count": 68,
     "metadata": {},
     "output_type": "execute_result"
    }
   ],
   "source": [
    "from sklearn.linear_model import LogisticRegression\n",
    "lr=LogisticRegression(random_state = 42)\n",
    "lr.fit(X_train_tf, y_train)"
   ]
  },
  {
   "cell_type": "code",
   "execution_count": 69,
   "id": "04f960cc",
   "metadata": {},
   "outputs": [
    {
     "name": "stdout",
     "output_type": "stream",
     "text": [
      "Logistic Regression\n",
      "Training:\n",
      "AUC:0.650\n",
      "accuracy:0.608\n",
      "recall:0.487\n",
      "precision:0.643\n",
      "specificity:0.730\n",
      " \n",
      "Validation:\n",
      "AUC:0.653\n",
      "accuracy:0.622\n",
      "recall:0.493\n",
      "precision:0.608\n",
      "specificity:0.731\n",
      " \n"
     ]
    }
   ],
   "source": [
    "y_train_preds = lr.predict_proba(X_train_tf)[:,1]\n",
    "y_valid_preds = lr.predict_proba(X_valid_tf)[:,1]\n",
    "\n",
    "print('Logistic Regression')\n",
    "print('Training:')\n",
    "lr_train_auc, lr_train_accuracy, lr_train_recall, \\\n",
    "    lr_train_precision, lr_train_specificity = print_report(y_train,y_train_preds, thresh)\n",
    "print('Validation:')\n",
    "lr_valid_auc, lr_valid_accuracy, lr_valid_recall, \\\n",
    "    lr_valid_precision, lr_valid_specificity = print_report(y_valid,y_valid_preds, thresh)\n",
    "\n"
   ]
  },
  {
   "cell_type": "code",
   "execution_count": 71,
   "id": "6e2933f1",
   "metadata": {},
   "outputs": [],
   "source": [
    "from sklearn.metrics import f1_score"
   ]
  },
  {
   "cell_type": "code",
   "execution_count": 73,
   "id": "7ca5605c",
   "metadata": {},
   "outputs": [],
   "source": [
    "df.to_csv(\"Hackathon.csv\")"
   ]
  },
  {
   "cell_type": "code",
   "execution_count": null,
   "id": "6cd9e738",
   "metadata": {},
   "outputs": [],
   "source": []
  }
 ],
 "metadata": {
  "kernelspec": {
   "display_name": "Python 3 (ipykernel)",
   "language": "python",
   "name": "python3"
  },
  "language_info": {
   "codemirror_mode": {
    "name": "ipython",
    "version": 3
   },
   "file_extension": ".py",
   "mimetype": "text/x-python",
   "name": "python",
   "nbconvert_exporter": "python",
   "pygments_lexer": "ipython3",
   "version": "3.9.7"
  }
 },
 "nbformat": 4,
 "nbformat_minor": 5
}
